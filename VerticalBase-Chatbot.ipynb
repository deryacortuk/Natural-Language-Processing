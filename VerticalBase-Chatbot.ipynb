{
 "cells": [
  {
   "cell_type": "code",
   "execution_count": 4,
   "id": "e644a1ec",
   "metadata": {},
   "outputs": [],
   "source": [
    "import pandas as pd\n",
    "import numpy as np\n",
    "import nltk\n",
    "import string\n",
    "import random"
   ]
  },
  {
   "cell_type": "code",
   "execution_count": 5,
   "id": "e51672d3",
   "metadata": {},
   "outputs": [
    {
     "name": "stdout",
     "output_type": "stream",
     "text": [
      "Data Science is a multidisciplinary field that involves extracting insights, knowledge, and valuable information from large and complex datasets using various techniques, including statistical analysis, machine learning, data mining, and domain expertise. It combines skills from computer science, mathematics, statistics, and domain knowledge to address real-world problems and make informed decisions based on data-driven evidence.\n",
      "\n",
      "Key aspects of Data Science include:\n",
      "\n",
      "Data Collection: Gathering and acquiring relevant data from various sources, which can be structured, semi-structured, or unstructured.\n",
      "\n",
      "Data Cleaning and Preprocessing: Cleaning, transforming, and organizing the data to remove errors, inconsistencies, and redundancies.\n",
      "\n",
      "Exploratory Data Analysis (EDA): Analyzing and visualizing data to understand patterns, relationships, and potential insights.\n",
      "\n",
      "Feature Engineering: Selecting, transforming, and creating meaningful features that enhance the performance of machine learning models.\n",
      "\n",
      "Machine Learning: Developing and training algorithms and models to predict outcomes, classify data, and make data-driven decisions.\n",
      "\n",
      "Model Evaluation and Selection: Assessing the performance of different models and selecting the best one based on various evaluation metrics.\n",
      "\n",
      "Data Visualization: Creating visual representations of data to communicate insights effectively and facilitate decision-making.\n",
      "\n",
      "Data Interpretation: Extracting meaningful insights and actionable recommendations from the analyzed data.\n",
      "\n",
      "Deployment and Integration: Implementing models and insights into real-world applications, often involving collaboration with software engineers and IT teams.\n",
      "\n",
      "Data Science finds applications in various domains, such as business, healthcare, finance, marketing, social sciences, and more. It helps organizations optimize operations, improve customer experiences, drive innovation, and make informed decisions based on data-driven evidence.\n",
      "\n",
      "Professionals in Data Science often use programming languages such as Python and R, along with tools and libraries like pandas, NumPy, scikit-learn, TensorFlow, and PyTorch. They work with large datasets, leverage machine learning algorithms, and use advanced statistical methods to uncover hidden insights that drive business value and scientific discoveries.\n"
     ]
    }
   ],
   "source": [
    "data=open('C:/Users/Derya/OneDrive/Masaüstü/data.txt','r',errors = 'ignore')\n",
    "text=data.read()\n",
    "print(text)"
   ]
  },
  {
   "cell_type": "code",
   "execution_count": 6,
   "id": "e6133126",
   "metadata": {},
   "outputs": [],
   "source": [
    "text=text.lower()\n",
    "# tokenize the words\n",
    "wr_ids = nltk.word_tokenize(text)\n",
    "# tokenize the sent\n",
    "st_ids = nltk.sent_tokenize(text)"
   ]
  },
  {
   "cell_type": "code",
   "execution_count": 7,
   "id": "53a8da4e",
   "metadata": {},
   "outputs": [],
   "source": [
    "from sklearn.feature_extraction.text import TfidfVectorizer\n",
    "from sklearn.metrics.pairwise import cosine_similarity"
   ]
  },
  {
   "cell_type": "code",
   "execution_count": 8,
   "id": "886ce020",
   "metadata": {},
   "outputs": [],
   "source": [
    "def get_output(user_input):\n",
    " \n",
    "    output=''\n",
    " #append input to text\n",
    "    st_ids.append(user_input)\n",
    " #define tfidf\n",
    "    txt_v = TfidfVectorizer(stop_words='english')\n",
    " #get vector\n",
    "    vec_txt = txt_v.fit_transform(st_ids)\n",
    " #get score\n",
    "    rank_score= cosine_similarity(vec_txt[-1], vec_txt)\n",
    "    idx=rank_score.argsort()[0][-2]\n",
    "    ft_out = rank_score.flatten()\n",
    "    ft_out.sort()\n",
    "    final_v = ft_out[-2]\n",
    "    if(final_v==0):\n",
    "        output=output + \"Dont know this answer, Ask something else\"\n",
    "        return output\n",
    "    else:\n",
    "        output = output + st_ids[idx]\n",
    "    return output"
   ]
  },
  {
   "cell_type": "code",
   "execution_count": 9,
   "id": "d4bad381",
   "metadata": {},
   "outputs": [
    {
     "name": "stdout",
     "output_type": "stream",
     "text": [
      "Enter your question\n",
      "\n",
      "What is Data Science\n",
      "\n",
      "Ans: key aspects of data science include:\n",
      "\n",
      "data collection: gathering and acquiring relevant data from various sources, which can be structured, semi-structured, or unstructured.\n",
      "\n"
     ]
    }
   ],
   "source": [
    "print(\"Enter your question\")\n",
    "print(\"\")\n",
    "in_txt = input()\n",
    "in_txt=in_txt.lower()\n",
    "print(\"\")\n",
    "print(\"Ans:\", get_output(in_txt))\n",
    "print(\"\")\n",
    "st_ids.remove(in_txt)"
   ]
  },
  {
   "cell_type": "code",
   "execution_count": null,
   "id": "3a1f430c",
   "metadata": {},
   "outputs": [],
   "source": []
  }
 ],
 "metadata": {
  "kernelspec": {
   "display_name": "Python 3",
   "language": "python",
   "name": "python3"
  },
  "language_info": {
   "codemirror_mode": {
    "name": "ipython",
    "version": 3
   },
   "file_extension": ".py",
   "mimetype": "text/x-python",
   "name": "python",
   "nbconvert_exporter": "python",
   "pygments_lexer": "ipython3",
   "version": "3.11.3"
  }
 },
 "nbformat": 4,
 "nbformat_minor": 5
}
