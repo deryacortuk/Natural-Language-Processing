{
 "cells": [
  {
   "cell_type": "code",
   "execution_count": 1,
   "id": "09804554",
   "metadata": {},
   "outputs": [],
   "source": [
    "import pandas as pd\n",
    "import numpy as np\n",
    "import matplotlib.pyplot as plt\n",
    "import seaborn as sns\n",
    "import nltk\n",
    "import scipy\n",
    "import re\n",
    "from scipy import spatial\n",
    "from nltk.tokenize.toktok import ToktokTokenizer\n",
    "from nltk.corpus import stopwords\n",
    "from nltk.tokenize import sent_tokenize, word_tokenize\n",
    "from nltk.stem import PorterStemmer\n",
    "tokenizer = ToktokTokenizer()\n",
    "import gensim\n",
    "from gensim.models import Word2Vec\n",
    "import itertools\n",
    "from sklearn.feature_extraction.text import TfidfVectorizer\n",
    "from sklearn.decomposition import PCA\n",
    "from sklearn.metrics.pairwise import linear_kernel\n",
    "import warnings\n",
    "warnings.filterwarnings(action = 'ignore')"
   ]
  },
  {
   "cell_type": "code",
   "execution_count": 2,
   "id": "0573d210",
   "metadata": {},
   "outputs": [
    {
     "data": {
      "text/html": [
       "<div>\n",
       "<style scoped>\n",
       "    .dataframe tbody tr th:only-of-type {\n",
       "        vertical-align: middle;\n",
       "    }\n",
       "\n",
       "    .dataframe tbody tr th {\n",
       "        vertical-align: top;\n",
       "    }\n",
       "\n",
       "    .dataframe thead th {\n",
       "        text-align: right;\n",
       "    }\n",
       "</style>\n",
       "<table border=\"1\" class=\"dataframe\">\n",
       "  <thead>\n",
       "    <tr style=\"text-align: right;\">\n",
       "      <th></th>\n",
       "      <th>uniq_id</th>\n",
       "      <th>crawl_timestamp</th>\n",
       "      <th>product_url</th>\n",
       "      <th>product_name</th>\n",
       "      <th>product_category_tree</th>\n",
       "      <th>pid</th>\n",
       "      <th>retail_price</th>\n",
       "      <th>discounted_price</th>\n",
       "      <th>image</th>\n",
       "      <th>is_FK_Advantage_product</th>\n",
       "      <th>description</th>\n",
       "      <th>product_rating</th>\n",
       "      <th>overall_rating</th>\n",
       "      <th>brand</th>\n",
       "      <th>product_specifications</th>\n",
       "    </tr>\n",
       "  </thead>\n",
       "  <tbody>\n",
       "    <tr>\n",
       "      <th>0</th>\n",
       "      <td>c2d766ca982eca8304150849735ffef9</td>\n",
       "      <td>2016-03-25 22:59:23 +0000</td>\n",
       "      <td>http://www.flipkart.com/alisha-solid-women-s-c...</td>\n",
       "      <td>Alisha Solid Women's Cycling Shorts</td>\n",
       "      <td>[\"Clothing &gt;&gt; Women's Clothing &gt;&gt; Lingerie, Sl...</td>\n",
       "      <td>SRTEH2FF9KEDEFGF</td>\n",
       "      <td>999.0</td>\n",
       "      <td>379.0</td>\n",
       "      <td>[\"http://img5a.flixcart.com/image/short/u/4/a/...</td>\n",
       "      <td>False</td>\n",
       "      <td>Key Features of Alisha Solid Women's Cycling S...</td>\n",
       "      <td>No rating available</td>\n",
       "      <td>No rating available</td>\n",
       "      <td>Alisha</td>\n",
       "      <td>{\"product_specification\"=&gt;[{\"key\"=&gt;\"Number of ...</td>\n",
       "    </tr>\n",
       "    <tr>\n",
       "      <th>1</th>\n",
       "      <td>7f7036a6d550aaa89d34c77bd39a5e48</td>\n",
       "      <td>2016-03-25 22:59:23 +0000</td>\n",
       "      <td>http://www.flipkart.com/fabhomedecor-fabric-do...</td>\n",
       "      <td>FabHomeDecor Fabric Double Sofa Bed</td>\n",
       "      <td>[\"Furniture &gt;&gt; Living Room Furniture &gt;&gt; Sofa B...</td>\n",
       "      <td>SBEEH3QGU7MFYJFY</td>\n",
       "      <td>32157.0</td>\n",
       "      <td>22646.0</td>\n",
       "      <td>[\"http://img6a.flixcart.com/image/sofa-bed/j/f...</td>\n",
       "      <td>False</td>\n",
       "      <td>FabHomeDecor Fabric Double Sofa Bed (Finish Co...</td>\n",
       "      <td>No rating available</td>\n",
       "      <td>No rating available</td>\n",
       "      <td>FabHomeDecor</td>\n",
       "      <td>{\"product_specification\"=&gt;[{\"key\"=&gt;\"Installati...</td>\n",
       "    </tr>\n",
       "    <tr>\n",
       "      <th>2</th>\n",
       "      <td>f449ec65dcbc041b6ae5e6a32717d01b</td>\n",
       "      <td>2016-03-25 22:59:23 +0000</td>\n",
       "      <td>http://www.flipkart.com/aw-bellies/p/itmeh4grg...</td>\n",
       "      <td>AW Bellies</td>\n",
       "      <td>[\"Footwear &gt;&gt; Women's Footwear &gt;&gt; Ballerinas &gt;...</td>\n",
       "      <td>SHOEH4GRSUBJGZXE</td>\n",
       "      <td>999.0</td>\n",
       "      <td>499.0</td>\n",
       "      <td>[\"http://img5a.flixcart.com/image/shoe/7/z/z/r...</td>\n",
       "      <td>False</td>\n",
       "      <td>Key Features of AW Bellies Sandals Wedges Heel...</td>\n",
       "      <td>No rating available</td>\n",
       "      <td>No rating available</td>\n",
       "      <td>AW</td>\n",
       "      <td>{\"product_specification\"=&gt;[{\"key\"=&gt;\"Ideal For\"...</td>\n",
       "    </tr>\n",
       "    <tr>\n",
       "      <th>3</th>\n",
       "      <td>0973b37acd0c664e3de26e97e5571454</td>\n",
       "      <td>2016-03-25 22:59:23 +0000</td>\n",
       "      <td>http://www.flipkart.com/alisha-solid-women-s-c...</td>\n",
       "      <td>Alisha Solid Women's Cycling Shorts</td>\n",
       "      <td>[\"Clothing &gt;&gt; Women's Clothing &gt;&gt; Lingerie, Sl...</td>\n",
       "      <td>SRTEH2F6HUZMQ6SJ</td>\n",
       "      <td>699.0</td>\n",
       "      <td>267.0</td>\n",
       "      <td>[\"http://img5a.flixcart.com/image/short/6/2/h/...</td>\n",
       "      <td>False</td>\n",
       "      <td>Key Features of Alisha Solid Women's Cycling S...</td>\n",
       "      <td>No rating available</td>\n",
       "      <td>No rating available</td>\n",
       "      <td>Alisha</td>\n",
       "      <td>{\"product_specification\"=&gt;[{\"key\"=&gt;\"Number of ...</td>\n",
       "    </tr>\n",
       "    <tr>\n",
       "      <th>4</th>\n",
       "      <td>bc940ea42ee6bef5ac7cea3fb5cfbee7</td>\n",
       "      <td>2016-03-25 22:59:23 +0000</td>\n",
       "      <td>http://www.flipkart.com/sicons-all-purpose-arn...</td>\n",
       "      <td>Sicons All Purpose Arnica Dog Shampoo</td>\n",
       "      <td>[\"Pet Supplies &gt;&gt; Grooming &gt;&gt; Skin &amp; Coat Care...</td>\n",
       "      <td>PSOEH3ZYDMSYARJ5</td>\n",
       "      <td>220.0</td>\n",
       "      <td>210.0</td>\n",
       "      <td>[\"http://img5a.flixcart.com/image/pet-shampoo/...</td>\n",
       "      <td>False</td>\n",
       "      <td>Specifications of Sicons All Purpose Arnica Do...</td>\n",
       "      <td>No rating available</td>\n",
       "      <td>No rating available</td>\n",
       "      <td>Sicons</td>\n",
       "      <td>{\"product_specification\"=&gt;[{\"key\"=&gt;\"Pet Type\",...</td>\n",
       "    </tr>\n",
       "  </tbody>\n",
       "</table>\n",
       "</div>"
      ],
      "text/plain": [
       "                            uniq_id            crawl_timestamp  \\\n",
       "0  c2d766ca982eca8304150849735ffef9  2016-03-25 22:59:23 +0000   \n",
       "1  7f7036a6d550aaa89d34c77bd39a5e48  2016-03-25 22:59:23 +0000   \n",
       "2  f449ec65dcbc041b6ae5e6a32717d01b  2016-03-25 22:59:23 +0000   \n",
       "3  0973b37acd0c664e3de26e97e5571454  2016-03-25 22:59:23 +0000   \n",
       "4  bc940ea42ee6bef5ac7cea3fb5cfbee7  2016-03-25 22:59:23 +0000   \n",
       "\n",
       "                                         product_url  \\\n",
       "0  http://www.flipkart.com/alisha-solid-women-s-c...   \n",
       "1  http://www.flipkart.com/fabhomedecor-fabric-do...   \n",
       "2  http://www.flipkart.com/aw-bellies/p/itmeh4grg...   \n",
       "3  http://www.flipkart.com/alisha-solid-women-s-c...   \n",
       "4  http://www.flipkart.com/sicons-all-purpose-arn...   \n",
       "\n",
       "                            product_name  \\\n",
       "0    Alisha Solid Women's Cycling Shorts   \n",
       "1    FabHomeDecor Fabric Double Sofa Bed   \n",
       "2                             AW Bellies   \n",
       "3    Alisha Solid Women's Cycling Shorts   \n",
       "4  Sicons All Purpose Arnica Dog Shampoo   \n",
       "\n",
       "                               product_category_tree               pid  \\\n",
       "0  [\"Clothing >> Women's Clothing >> Lingerie, Sl...  SRTEH2FF9KEDEFGF   \n",
       "1  [\"Furniture >> Living Room Furniture >> Sofa B...  SBEEH3QGU7MFYJFY   \n",
       "2  [\"Footwear >> Women's Footwear >> Ballerinas >...  SHOEH4GRSUBJGZXE   \n",
       "3  [\"Clothing >> Women's Clothing >> Lingerie, Sl...  SRTEH2F6HUZMQ6SJ   \n",
       "4  [\"Pet Supplies >> Grooming >> Skin & Coat Care...  PSOEH3ZYDMSYARJ5   \n",
       "\n",
       "   retail_price  discounted_price  \\\n",
       "0         999.0             379.0   \n",
       "1       32157.0           22646.0   \n",
       "2         999.0             499.0   \n",
       "3         699.0             267.0   \n",
       "4         220.0             210.0   \n",
       "\n",
       "                                               image is_FK_Advantage_product  \\\n",
       "0  [\"http://img5a.flixcart.com/image/short/u/4/a/...                   False   \n",
       "1  [\"http://img6a.flixcart.com/image/sofa-bed/j/f...                   False   \n",
       "2  [\"http://img5a.flixcart.com/image/shoe/7/z/z/r...                   False   \n",
       "3  [\"http://img5a.flixcart.com/image/short/6/2/h/...                   False   \n",
       "4  [\"http://img5a.flixcart.com/image/pet-shampoo/...                   False   \n",
       "\n",
       "                                         description       product_rating  \\\n",
       "0  Key Features of Alisha Solid Women's Cycling S...  No rating available   \n",
       "1  FabHomeDecor Fabric Double Sofa Bed (Finish Co...  No rating available   \n",
       "2  Key Features of AW Bellies Sandals Wedges Heel...  No rating available   \n",
       "3  Key Features of Alisha Solid Women's Cycling S...  No rating available   \n",
       "4  Specifications of Sicons All Purpose Arnica Do...  No rating available   \n",
       "\n",
       "        overall_rating         brand  \\\n",
       "0  No rating available        Alisha   \n",
       "1  No rating available  FabHomeDecor   \n",
       "2  No rating available            AW   \n",
       "3  No rating available        Alisha   \n",
       "4  No rating available        Sicons   \n",
       "\n",
       "                              product_specifications  \n",
       "0  {\"product_specification\"=>[{\"key\"=>\"Number of ...  \n",
       "1  {\"product_specification\"=>[{\"key\"=>\"Installati...  \n",
       "2  {\"product_specification\"=>[{\"key\"=>\"Ideal For\"...  \n",
       "3  {\"product_specification\"=>[{\"key\"=>\"Number of ...  \n",
       "4  {\"product_specification\"=>[{\"key\"=>\"Pet Type\",...  "
      ]
     },
     "execution_count": 2,
     "metadata": {},
     "output_type": "execute_result"
    }
   ],
   "source": [
    "data=pd.read_csv(\"C:/Users/Derya/Downloads/flipkart_com-ecommerce_sample.csv\")\n",
    "data.head()"
   ]
  },
  {
   "cell_type": "code",
   "execution_count": 3,
   "id": "2fce246a",
   "metadata": {},
   "outputs": [
    {
     "data": {
      "text/plain": [
       "(20002, 15)"
      ]
     },
     "execution_count": 3,
     "metadata": {},
     "output_type": "execute_result"
    }
   ],
   "source": [
    "data.shape\n"
   ]
  },
  {
   "cell_type": "code",
   "execution_count": 4,
   "id": "0bbc64c8",
   "metadata": {},
   "outputs": [
    {
     "name": "stdout",
     "output_type": "stream",
     "text": [
      "<class 'pandas.core.frame.DataFrame'>\n",
      "RangeIndex: 20002 entries, 0 to 20001\n",
      "Data columns (total 15 columns):\n",
      " #   Column                   Non-Null Count  Dtype  \n",
      "---  ------                   --------------  -----  \n",
      " 0   uniq_id                  20000 non-null  object \n",
      " 1   crawl_timestamp          20000 non-null  object \n",
      " 2   product_url              20000 non-null  object \n",
      " 3   product_name             20000 non-null  object \n",
      " 4   product_category_tree    20000 non-null  object \n",
      " 5   pid                      20000 non-null  object \n",
      " 6   retail_price             19922 non-null  float64\n",
      " 7   discounted_price         19922 non-null  float64\n",
      " 8   image                    19997 non-null  object \n",
      " 9   is_FK_Advantage_product  20000 non-null  object \n",
      " 10  description              19998 non-null  object \n",
      " 11  product_rating           20000 non-null  object \n",
      " 12  overall_rating           20000 non-null  object \n",
      " 13  brand                    14136 non-null  object \n",
      " 14  product_specifications   19986 non-null  object \n",
      "dtypes: float64(2), object(13)\n",
      "memory usage: 2.3+ MB\n"
     ]
    }
   ],
   "source": [
    "data.info()"
   ]
  },
  {
   "cell_type": "code",
   "execution_count": 5,
   "id": "08f08736",
   "metadata": {},
   "outputs": [],
   "source": [
    "data['length']=data['description'].str.len()"
   ]
  },
  {
   "cell_type": "code",
   "execution_count": 16,
   "id": "4cfbac4a",
   "metadata": {},
   "outputs": [],
   "source": [
    "data['description'].fillna('', inplace=True)\n",
    "data['no_of_words'] = data.description.apply(lambda x : len(x.split()))\n",
    "\n"
   ]
  },
  {
   "cell_type": "code",
   "execution_count": 18,
   "id": "7134f0ef",
   "metadata": {},
   "outputs": [
    {
     "data": {
      "text/plain": [
       "Text(0.5, 1.0, 'Word distribution per bin')"
      ]
     },
     "execution_count": 18,
     "metadata": {},
     "output_type": "execute_result"
    },
    {
     "data": {
      "image/png": "[encoded data removed]",
      "text/plain": [
       "<Figure size 640x480 with 1 Axes>"
      ]
     },
     "metadata": {},
     "output_type": "display_data"
    }
   ],
   "source": [
    "bins=[0,50,75, np.inf]\n",
    "data['bins']=pd.cut(data.no_of_words, bins=[0,100,300,500,800, np.inf],labels=['0-100', '100-200', '200-500','500-800' ,'>800'])\n",
    "words_distribution = data.groupby('bins').size().reset_index().rename(columns={0:'word_counts'})\n",
    "sns.barplot(x='bins', y='word_counts', data=words_distribution).set_title(\"Word distribution per bin\")"
   ]
  },
  {
   "cell_type": "code",
   "execution_count": 20,
   "id": "b614c635",
   "metadata": {},
   "outputs": [
    {
     "data": {
      "text/html": [
       "<div>\n",
       "<style scoped>\n",
       "    .dataframe tbody tr th:only-of-type {\n",
       "        vertical-align: middle;\n",
       "    }\n",
       "\n",
       "    .dataframe tbody tr th {\n",
       "        vertical-align: top;\n",
       "    }\n",
       "\n",
       "    .dataframe thead th {\n",
       "        text-align: right;\n",
       "    }\n",
       "</style>\n",
       "<table border=\"1\" class=\"dataframe\">\n",
       "  <thead>\n",
       "    <tr style=\"text-align: right;\">\n",
       "      <th></th>\n",
       "      <th>missing</th>\n",
       "      <th>percent</th>\n",
       "    </tr>\n",
       "  </thead>\n",
       "  <tbody>\n",
       "    <tr>\n",
       "      <th>brand</th>\n",
       "      <td>5866</td>\n",
       "      <td>0.293271</td>\n",
       "    </tr>\n",
       "    <tr>\n",
       "      <th>retail_price</th>\n",
       "      <td>80</td>\n",
       "      <td>0.004000</td>\n",
       "    </tr>\n",
       "    <tr>\n",
       "      <th>discounted_price</th>\n",
       "      <td>80</td>\n",
       "      <td>0.004000</td>\n",
       "    </tr>\n",
       "    <tr>\n",
       "      <th>product_specifications</th>\n",
       "      <td>16</td>\n",
       "      <td>0.000800</td>\n",
       "    </tr>\n",
       "    <tr>\n",
       "      <th>image</th>\n",
       "      <td>5</td>\n",
       "      <td>0.000250</td>\n",
       "    </tr>\n",
       "    <tr>\n",
       "      <th>bins</th>\n",
       "      <td>4</td>\n",
       "      <td>0.000200</td>\n",
       "    </tr>\n",
       "    <tr>\n",
       "      <th>length</th>\n",
       "      <td>4</td>\n",
       "      <td>0.000200</td>\n",
       "    </tr>\n",
       "    <tr>\n",
       "      <th>product_rating</th>\n",
       "      <td>2</td>\n",
       "      <td>0.000100</td>\n",
       "    </tr>\n",
       "    <tr>\n",
       "      <th>overall_rating</th>\n",
       "      <td>2</td>\n",
       "      <td>0.000100</td>\n",
       "    </tr>\n",
       "    <tr>\n",
       "      <th>uniq_id</th>\n",
       "      <td>2</td>\n",
       "      <td>0.000100</td>\n",
       "    </tr>\n",
       "    <tr>\n",
       "      <th>crawl_timestamp</th>\n",
       "      <td>2</td>\n",
       "      <td>0.000100</td>\n",
       "    </tr>\n",
       "    <tr>\n",
       "      <th>pid</th>\n",
       "      <td>2</td>\n",
       "      <td>0.000100</td>\n",
       "    </tr>\n",
       "    <tr>\n",
       "      <th>product_category_tree</th>\n",
       "      <td>2</td>\n",
       "      <td>0.000100</td>\n",
       "    </tr>\n",
       "    <tr>\n",
       "      <th>product_name</th>\n",
       "      <td>2</td>\n",
       "      <td>0.000100</td>\n",
       "    </tr>\n",
       "    <tr>\n",
       "      <th>product_url</th>\n",
       "      <td>2</td>\n",
       "      <td>0.000100</td>\n",
       "    </tr>\n",
       "    <tr>\n",
       "      <th>is_FK_Advantage_product</th>\n",
       "      <td>2</td>\n",
       "      <td>0.000100</td>\n",
       "    </tr>\n",
       "    <tr>\n",
       "      <th>description</th>\n",
       "      <td>0</td>\n",
       "      <td>0.000000</td>\n",
       "    </tr>\n",
       "    <tr>\n",
       "      <th>no_of_words</th>\n",
       "      <td>0</td>\n",
       "      <td>0.000000</td>\n",
       "    </tr>\n",
       "  </tbody>\n",
       "</table>\n",
       "</div>"
      ],
      "text/plain": [
       "                         missing   percent\n",
       "brand                       5866  0.293271\n",
       "retail_price                  80  0.004000\n",
       "discounted_price              80  0.004000\n",
       "product_specifications        16  0.000800\n",
       "image                          5  0.000250\n",
       "bins                           4  0.000200\n",
       "length                         4  0.000200\n",
       "product_rating                 2  0.000100\n",
       "overall_rating                 2  0.000100\n",
       "uniq_id                        2  0.000100\n",
       "crawl_timestamp                2  0.000100\n",
       "pid                            2  0.000100\n",
       "product_category_tree          2  0.000100\n",
       "product_name                   2  0.000100\n",
       "product_url                    2  0.000100\n",
       "is_FK_Advantage_product        2  0.000100\n",
       "description                    0  0.000000\n",
       "no_of_words                    0  0.000000"
      ]
     },
     "execution_count": 20,
     "metadata": {},
     "output_type": "execute_result"
    }
   ],
   "source": [
    "missing = pd.DataFrame(data.isnull().sum()).rename(columns = {0: 'missing'})\n",
    "# Create a percentage of missing values\n",
    "missing['percent'] = missing['missing'] / len(data)\n",
    "missing.sort_values('percent', ascending = False)"
   ]
  },
  {
   "cell_type": "code",
   "execution_count": 21,
   "id": "309637f8",
   "metadata": {},
   "outputs": [
    {
     "data": {
      "text/plain": [
       "0    key features of alisha solid women s cycling s...\n",
       "1    fabhomedecor fabric double sofa bed finish col...\n",
       "2    key features of aw bellies sandals wedges heel...\n",
       "3    key features of alisha solid women s cycling s...\n",
       "4    specifications of sicons all purpose arnica do...\n",
       "Name: description, dtype: object"
      ]
     },
     "execution_count": 21,
     "metadata": {},
     "output_type": "execute_result"
    }
   ],
   "source": [
    "# Remove punctuation\n",
    "data['description'] = data['description'].str.replace(r'[^\\w\\d\\s]', ' ')\n",
    "# Replace whitespace between terms with a single space\n",
    "data['description'] = data['description'].str.replace(r'\\s+', ' ')\n",
    "# Remove leading and trailing whitespace\n",
    "data['description'] = data['description'].str.replace(r'^\\s+|\\s+?$', '')\n",
    "# converting to lower case\n",
    "data['description'] = data['description'].str.lower()\n",
    "data['description'].head()"
   ]
  },
  {
   "cell_type": "code",
   "execution_count": 22,
   "id": "fe1dd099",
   "metadata": {},
   "outputs": [],
   "source": [
    "# Removing Stop words\n",
    "stop = stopwords.words('english')"
   ]
  },
  {
   "cell_type": "code",
   "execution_count": 25,
   "id": "6e9a6eb7",
   "metadata": {},
   "outputs": [
    {
     "data": {
      "text/plain": [
       "0    features alisha solid women cycling shorts cot...\n",
       "1    fabhomedecor fabric double sofa bed finish col...\n",
       "2    features aw bellies sandals wedges heel casual...\n",
       "3    features alisha solid women cycling shorts cot...\n",
       "4    specifications sicons purpose arnica dog shamp...\n",
       "Name: description, dtype: object"
      ]
     },
     "execution_count": 25,
     "metadata": {},
     "output_type": "execute_result"
    }
   ],
   "source": [
    "pattern = r'\\b(?:{})\\b'.format('|'.join(stop))\n",
    "data['description'] = data['description'].str.replace(pattern, '')\n",
    "# Removing single characters\n",
    "data['description'] = data['description'].str.replace(r'\\s+', ' ')\n",
    "data['description'] = data['description'].apply(lambda x: \" \".join(x for x in x.split() if len(x)>1))\n",
    "# Removing domain related stop words from description\n",
    "specific_stop_words = [ \"rs\",\"flipkart\",\"buy\",\"com\",\"free\",\"day\",\"cash\",\"replacement\",\"guarantee\",\"genuine\",\"key\",\"feature\",\"delivery\",\"products\",\"product\",\"shipping\", \"online\",\"shop\"]\n",
    "data['description'] = data['description'].apply(lambda x: \" \".join(x for x in x.split() if x not in specific_stop_words))\n",
    "data['description'].head()"
   ]
  },
  {
   "cell_type": "code",
   "execution_count": 26,
   "id": "0cf92611",
   "metadata": {},
   "outputs": [
    {
     "data": {
      "image/png": "[encoded data removed]",
      "text/plain": [
       "<Figure size 640x480 with 1 Axes>"
      ]
     },
     "metadata": {},
     "output_type": "display_data"
    },
    {
     "name": "stdout",
     "output_type": "stream",
     "text": [
      "[('women', 10574), ('30', 7826), ('features', 7199), ('price', 6705), ('shirt', 5794), ('color', 5743), ('type', 5377), ('details', 5300), ('specifications', 5155), ('men', 5032)]\n"
     ]
    }
   ],
   "source": [
    "#Top frequent words after removing domain related stop words\n",
    "a = data['description'].str.cat(sep=' ')\n",
    "words = nltk.tokenize.word_tokenize(a)\n",
    "word_dist = nltk.FreqDist(words)\n",
    "word_dist.plot(10,cumulative=False)\n",
    "print(word_dist.most_common(10))"
   ]
  },
  {
   "cell_type": "code",
   "execution_count": 27,
   "id": "2a70ed2c",
   "metadata": {},
   "outputs": [
    {
     "data": {
      "text/plain": [
       "(20002, 26162)"
      ]
     },
     "execution_count": 27,
     "metadata": {},
     "output_type": "execute_result"
    }
   ],
   "source": [
    "#text cleaning\n",
    "data['description'] = data['description'].fillna('')\n",
    "#define the vectorizer\n",
    "T_vec = TfidfVectorizer(stop_words='english')\n",
    "# get the vectors\n",
    "T_vec_matrix = T_vec.fit_transform(data['description'])\n",
    "#shape\n",
    "T_vec_matrix.shape"
   ]
  },
  {
   "cell_type": "code",
   "execution_count": 28,
   "id": "8f8a1bed",
   "metadata": {},
   "outputs": [],
   "source": [
    "product_index = pd.Series(data.index, index=data['product_name']).drop_duplicates()"
   ]
  },
  {
   "cell_type": "code",
   "execution_count": 29,
   "id": "48db6c91",
   "metadata": {},
   "outputs": [
    {
     "data": {
      "text/plain": [
       "product_name\n",
       "Alisha Solid Women's Cycling Shorts            0\n",
       "FabHomeDecor Fabric Double Sofa Bed            1\n",
       "AW Bellies                                     2\n",
       "Alisha Solid Women's Cycling Shorts            3\n",
       "Sicons All Purpose Arnica Dog Shampoo          4\n",
       "                                           ...  \n",
       "Elite Collection Medium Acrylic Sticker    19997\n",
       "Elite Collection Medium Acrylic Sticker    19998\n",
       "Elite Collection Medium Acrylic Sticker    19999\n",
       "NaN                                        20000\n",
       "NaN                                        20001\n",
       "Length: 20002, dtype: int64"
      ]
     },
     "execution_count": 29,
     "metadata": {},
     "output_type": "execute_result"
    }
   ],
   "source": [
    "product_index"
   ]
  },
  {
   "cell_type": "code",
   "execution_count": 30,
   "id": "b0026515",
   "metadata": {},
   "outputs": [],
   "source": [
    "def predict_products(text):\n",
    "    # getting index\n",
    "    index = product_index[text]\n",
    "    # Obtaining the pairwsie similarity scores\n",
    "    score_matrix = linear_kernel(T_vec_matrix[index], T_vec_matrix)\n",
    "    matching_sc= list(enumerate(score_matrix[0]))\n",
    "    # Sort the product based on the similarity scores\n",
    "    matching_sc= sorted(matching_sc, key=lambda x: x[1], reverse=True)\n",
    "    # Getting the scores of the 10 most similar product\n",
    "    matching_sc= matching_sc[1:10]\n",
    "    # Getting the product indices\n",
    "    product_indices = [i[0] for i in matching_sc]\n",
    "    # Show the similar products\n",
    "    return data['product_name'].iloc[product_indices]"
   ]
  },
  {
   "cell_type": "code",
   "execution_count": null,
   "id": "9bfa7c91",
   "metadata": {},
   "outputs": [],
   "source": [
    "recommended_product = predict_products(input(\"Enter a product name: \"))\n",
    "if recommended_product is not None:\n",
    "    \n",
    "    print (\"Similar products\")\n",
    "    print(\"\\n\")\n",
    "    for product_name in recommended_product:\n",
    "        print (product_name)"
   ]
  },
  {
   "cell_type": "code",
   "execution_count": null,
   "id": "fc54859b",
   "metadata": {},
   "outputs": [],
   "source": [
    "fin=[]\n",
    "for i in range(len(data['description'])):\n",
    "    \n",
    "    temp=[]\n",
    "    temp.append(data['description'][i])\n",
    "    fin = fin + temp\n",
    "data1 = data[['product_name','description']]"
   ]
  },
  {
   "cell_type": "code",
   "execution_count": null,
   "id": "5a10bdf0",
   "metadata": {},
   "outputs": [],
   "source": [
    "import the word2vec\n",
    "from gensim.models import KeyedVectors\n",
    "filename = 'C:\\\\GoogleNews-vectors-negative300.bin'\n",
    "model = KeyedVectors.load_word2vec_format(filename, binary=True, limit=50000)\n",
    "#Preprocessing\n",
    "def remove_stopwords(text, is_lower_case=False):\n",
    "    \n",
    "    pattern = r'[^a-zA-z0-9\\s]'\n",
    "    text = re.sub(pattern, '', text[0])\n",
    "    tokens = nltk.word_tokenize(text)\n",
    "    tokens = [token.strip() for token in tokens]\n",
    "    if is_lower_case:\n",
    "        filtered_tokens = [token for token in tokens if token not in stop]\n",
    "    else:\n",
    "        filtered_tokens = [token for token in tokens if token.lower() not in stop]\n",
    "        filtered_text = ' '.join(filtered_tokens)\n",
    "        return filtered_text"
   ]
  },
  {
   "cell_type": "code",
   "execution_count": null,
   "id": "24074009",
   "metadata": {},
   "outputs": [],
   "source": [
    "def get_embedding(word):\n",
    "    if word in model.wv.vocab:\n",
    "        return model[word]\n",
    "    else:\n",
    "        return np.zeros(300)"
   ]
  },
  {
   "cell_type": "code",
   "execution_count": null,
   "id": "346c629e",
   "metadata": {},
   "outputs": [],
   "source": [
    "out_dict = {}\n",
    "for sen in fin:\n",
    "    average_vector = (np.mean(np.array([get_embedding(x) for x in nltk.word_tokenize(remove_stopwords(sen))]), axis=0))\n",
    "    dict = { sen : (average_vector) }\n",
    "    out_dict.update(dict)"
   ]
  },
  {
   "cell_type": "code",
   "execution_count": null,
   "id": "8ca2ee7e",
   "metadata": {},
   "outputs": [],
   "source": [
    "# Get the similarity between the query and documents\n",
    "def get_sim(query_embedding, average_vector_doc):\n",
    "    sim = [(1 - scipy.spatial.distance.cosine(query_embedding, average_vector_doc))]\n",
    "    return sim"
   ]
  },
  {
   "cell_type": "code",
   "execution_count": null,
   "id": "06b1f434",
   "metadata": {},
   "outputs": [],
   "source": [
    "# Rank all the documents based on the similarity\n",
    "def Ranked_documents(query):\n",
    "    global rank\n",
    "    query_words = (np.mean(np.array([get_embedding(x) for x in nltk.word_tokenize(query.lower())],dtype=float), axis=0))\n",
    "    rank = []\n",
    "    for k,v in out_dict.items():\n",
    "        rank.append((k, get_sim(query_words, v)))\n",
    "    rank = sorted(rank,key=lambda t: t[1], reverse=True)\n",
    "    dd =pd.DataFrame(rank,columns=['Desc','score'])\n",
    "    rankfin = pd.merge(data1,dd,left_on='description',right_on='Desc')\n",
    "    rankfin = rankfin[['product_name','description','score']]\n",
    "    print('Ranked Documents :')\n",
    "    return rankfin"
   ]
  },
  {
   "cell_type": "code",
   "execution_count": null,
   "id": "bb8fbff3",
   "metadata": {},
   "outputs": [],
   "source": [
    "# Call the IR function with a query\n",
    "query=input(\"What would you like to search\")\n",
    "Ranked_documents(query)"
   ]
  },
  {
   "cell_type": "code",
   "execution_count": null,
   "id": "3c66d646",
   "metadata": {},
   "outputs": [],
   "source": []
  }
 ],
 "metadata": {
  "kernelspec": {
   "display_name": "Python 3",
   "language": "python",
   "name": "python3"
  },
  "language_info": {
   "codemirror_mode": {
    "name": "ipython",
    "version": 3
   },
   "file_extension": ".py",
   "mimetype": "text/x-python",
   "name": "python",
   "nbconvert_exporter": "python",
   "pygments_lexer": "ipython3",
   "version": "3.11.3"
  }
 },
 "nbformat": 4,
 "nbformat_minor": 5
}
