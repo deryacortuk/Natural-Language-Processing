{
 "cells": [
  {
   "cell_type": "code",
   "execution_count": 2,
   "id": "71f7a347",
   "metadata": {},
   "outputs": [],
   "source": [
    "# !pip install transformers"
   ]
  },
  {
   "cell_type": "code",
   "execution_count": 3,
   "id": "0880f8d4",
   "metadata": {},
   "outputs": [],
   "source": [
    "from transformers import BertForQuestionAnswering\n",
    "from transformers import BertTokenizer\n",
    "\n",
    "import torch"
   ]
  },
  {
   "cell_type": "code",
   "execution_count": null,
   "id": "8c420dd3",
   "metadata": {},
   "outputs": [
    {
     "data": {
      "application/vnd.jupyter.widget-view+json": {
       "model_id": "d26689500c764740930246c0edadbd0a",
       "version_major": 2,
       "version_minor": 0
      },
      "text/plain": [
       "Downloading (…)lve/main/config.json:   0%|          | 0.00/443 [00:00<?, ?B/s]"
      ]
     },
     "metadata": {},
     "output_type": "display_data"
    },
    {
     "data": {
      "application/vnd.jupyter.widget-view+json": {
       "model_id": "5d637ba50fe64730a5c80935aefe139d",
       "version_major": 2,
       "version_minor": 0
      },
      "text/plain": [
       "Downloading model.safetensors:   0%|          | 0.00/1.34G [00:00<?, ?B/s]"
      ]
     },
     "metadata": {},
     "output_type": "display_data"
    }
   ],
   "source": [
    "qna_model = BertForQuestionAnswering.from_pretrained('bert-large-uncased-whole-word-masking-finetuned-squad')\n",
    "\n",
    "qna_tokenizer = BertTokenizer.from_pretrained('bert-large-uncased-whole-word-masking-finetuned-squad')"
   ]
  },
  {
   "cell_type": "code",
   "execution_count": null,
   "id": "712c0606",
   "metadata": {},
   "outputs": [],
   "source": [
    "def QnA(user_input_que):\n",
    "    \n",
    " #tokinizng the texts\n",
    "    in_tok = qna_tokenizer.encode_plus(user_input_que, ans_text, return_tensors=\"pt\")\n",
    " #getting scores from tokens\n",
    "    ans_str_sc, ans_en_sc = qna_model(**in_tok,return_dict=False)\n",
    "    ans_st = torch.argmax(ans_str_sc)\n",
    "    ans_en = torch.argmax(ans_en_sc) + 1\n",
    " #ids are then converted to tokens\n",
    "    ans_tok = qna_tokenizer.convert_ids_to_tokens(in_tok[\"input_ids\"][0][ans_st:ans_en])\n",
    " #getting the answer\n",
    "    return qna_tokenizer.convert_tokens_to_string(ans_tok)"
   ]
  },
  {
   "cell_type": "code",
   "execution_count": null,
   "id": "940ff5e8",
   "metadata": {},
   "outputs": [],
   "source": [
    "que = \"what are the symptoms of covid19?\"\n",
    "QnA(que)"
   ]
  },
  {
   "cell_type": "code",
   "execution_count": null,
   "id": "e2d1d518",
   "metadata": {},
   "outputs": [],
   "source": []
  }
 ],
 "metadata": {
  "kernelspec": {
   "display_name": "Python 3",
   "language": "python",
   "name": "python3"
  },
  "language_info": {
   "codemirror_mode": {
    "name": "ipython",
    "version": 3
   },
   "file_extension": ".py",
   "mimetype": "text/x-python",
   "name": "python",
   "nbconvert_exporter": "python",
   "pygments_lexer": "ipython3",
   "version": "3.11.3"
  }
 },
 "nbformat": 4,
 "nbformat_minor": 5
}
